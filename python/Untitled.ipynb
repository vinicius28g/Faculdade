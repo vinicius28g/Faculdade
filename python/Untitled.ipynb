{
 "cells": [
  {
   "cell_type": "code",
   "execution_count": null,
   "id": "f15a78e0",
   "metadata": {},
   "outputs": [
    {
     "name": "stdout",
     "output_type": "stream",
     "text": [
      "multiplicação: 2 * 3 = 6\n",
      "adição 2 + 3 = 5\n",
      "subtração: 2 - 3 = -1\n",
      "divisão: 2 / 3 = 0.6666666666666666\n",
      "potenciação: 2^3 =  8\n",
      "raiz: V25 = 5\n"
     ]
    }
   ],
   "source": [
    "print('multiplicação: 2 * 3 =', 2*3)\n",
    "print('adição 2 + 3 =', 2+3)\n",
    "print('subtração: 2 - 3 =', 2-3)\n",
    "print('divisão: 2 / 3 =', 2/3)\n",
    "print('potenciação: 2^3 = ', 2**3)\n",
    "print('raiz: V25 =', float (25**(1/2)))\n",
    "input('escreva uma palavra')"
   ]
  },
  {
   "cell_type": "code",
   "execution_count": null,
   "id": "0581c878",
   "metadata": {},
   "outputs": [],
   "source": []
  }
 ],
 "metadata": {
  "kernelspec": {
   "display_name": "Python 3.10.8 64-bit",
   "language": "python",
   "name": "python3"
  },
  "language_info": {
   "codemirror_mode": {
    "name": "ipython",
    "version": 3
   },
   "file_extension": ".py",
   "mimetype": "text/x-python",
   "name": "python",
   "nbconvert_exporter": "python",
   "pygments_lexer": "ipython3",
   "version": "3.10.8"
  },
  "vscode": {
   "interpreter": {
    "hash": "2642ab052a82acdb5441664953bb49ec84ddc6e3dcffb4f28d41229c0aacb075"
   }
  }
 },
 "nbformat": 4,
 "nbformat_minor": 5
}
